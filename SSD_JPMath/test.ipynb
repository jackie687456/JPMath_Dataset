{
 "cells": [
  {
   "cell_type": "code",
   "execution_count": 7,
   "metadata": {},
   "outputs": [],
   "source": [
    "# パッケージのimport\n",
    "import torch.nn as nn\n",
    "import torch.nn.init as init\n",
    "import torch.nn.functional as F\n",
    "from torch.autograd import Function\n",
    "import torch.utils.data as data\n",
    "import torch\n",
    "import cv2\n",
    "import numpy as np\n",
    "import os.path as osp\n",
    "import glob, pprint\n",
    "from itertools import product as product\n",
    "from math import sqrt as sqrt\n",
    "\n",
    "# XMLをファイルやテキストから読み込んだり、加工したり、保存したりするためのライブラリ\n",
    "import xml.etree.ElementTree as ET\n",
    "\n",
    "# フォルダ「utils」のdata_augumentation.pyからimport。入力画像の前処理をするクラス\n",
    "from utils.data_augumentation import Compose, ConvertFromInts, ToAbsoluteCoords, PhotometricDistort, Expand, RandomSampleCrop, RandomMirror, ToPercentCoords, Resize, SubtractMeans\n",
    "\n",
    "# フォルダ「utils」にある関数matchを記述したmatch.pyからimport\n",
    "from utils.match import match"
   ]
  },
  {
   "cell_type": "code",
   "execution_count": 8,
   "metadata": {},
   "outputs": [
    {
     "name": "stdout",
     "output_type": "stream",
     "text": [
      "1723\n",
      "1723\n"
     ]
    }
   ],
   "source": [
    "rootpath = \"./data/JPMathDataset/train/\"\n",
    "\n",
    "png_path_template = osp.join(rootpath + \"img/\" + \"*.png\")\n",
    "xml_path_template = osp.join(rootpath + \"xml/\" + \"*.xml\")\n",
    "\n",
    "img_list = glob.glob(png_path_template)\n",
    "anno_list = glob.glob(xml_path_template)\n",
    "\n",
    "print(len(img_list))\n",
    "print(len(anno_list))\n",
    "\n",
    "for i in range(len(img_list)):\n",
    "    img = img_list[i]\n",
    "    img_num = img[-11:-4]\n",
    "    anno = anno_list[i]\n",
    "    anno_num = anno[-11:-4]\n",
    "    if img_num != anno_num:\n",
    "        print(img_num)\n"
   ]
  },
  {
   "cell_type": "code",
   "execution_count": 12,
   "metadata": {},
   "outputs": [
    {
     "name": "stdout",
     "output_type": "stream",
     "text": [
      "['./data/JPMathDataset/img\\\\000_000.png', './data/JPMathDataset/img\\\\000_001.png', './data/JPMathDataset/img\\\\000_002.png', './data/JPMathDataset/img\\\\000_003.png', './data/JPMathDataset/img\\\\000_004.png', './data/JPMathDataset/img\\\\000_005.png', './data/JPMathDataset/img\\\\000_006.png', './data/JPMathDataset/img\\\\000_007.png', './data/JPMathDataset/img\\\\000_008.png', './data/JPMathDataset/img\\\\000_009.png', './data/JPMathDataset/img\\\\000_010.png', './data/JPMathDataset/img\\\\000_011.png', './data/JPMathDataset/img\\\\000_013.png']\n",
      "['./data/JPMathDataset/xml\\\\000_000.xml', './data/JPMathDataset/xml\\\\000_001.xml', './data/JPMathDataset/xml\\\\000_002.xml', './data/JPMathDataset/xml\\\\000_003.xml', './data/JPMathDataset/xml\\\\000_004.xml', './data/JPMathDataset/xml\\\\000_005.xml', './data/JPMathDataset/xml\\\\000_006.xml', './data/JPMathDataset/xml\\\\000_007.xml', './data/JPMathDataset/xml\\\\000_008.xml', './data/JPMathDataset/xml\\\\000_009.xml', './data/JPMathDataset/xml\\\\000_010.xml', './data/JPMathDataset/xml\\\\000_011.xml', './data/JPMathDataset/xml\\\\000_013.xml']\n"
     ]
    }
   ],
   "source": [
    "rootpath = \"./data/JPMathDataset/\"\n",
    "\n",
    "png_path_template = osp.join(rootpath + \"img/\" + \"*.png\")\n",
    "xml_path_template = osp.join(rootpath + \"xml/\" + \"*.xml\")\n",
    "\n",
    "img_list = glob.glob(png_path_template)\n",
    "anno_list = glob.glob(xml_path_template)\n",
    "\n",
    "valid_index = []\n",
    "\n",
    "for i in range(len(anno_list)):\n",
    "\n",
    "    xml_path = anno_list[i]\n",
    "    xml = ET.parse(xml_path).getroot()\n",
    "\n",
    "    if xml.find('object') != None:\n",
    "        valid_index.append(i)\n",
    "\n",
    "valid_img_list = []\n",
    "valid_anno_list =  []\n",
    "for j in valid_index:\n",
    "    valid_img_list.append(img_list[j])\n",
    "    valid_anno_list.append(anno_list[j])\n",
    "\n",
    "print(valid_img_list)\n",
    "print(valid_anno_list)\n"
   ]
  },
  {
   "cell_type": "code",
   "execution_count": 13,
   "metadata": {},
   "outputs": [
    {
     "ename": "ValueError",
     "evalue": "could not convert string to float: ''",
     "output_type": "error",
     "traceback": [
      "\u001b[1;31m---------------------------------------------------------------------------\u001b[0m",
      "\u001b[1;31mValueError\u001b[0m                                Traceback (most recent call last)",
      "\u001b[1;32m~\\AppData\\Local\\Temp/ipykernel_31728/2168529762.py\u001b[0m in \u001b[0;36m<module>\u001b[1;34m\u001b[0m\n\u001b[0;32m     18\u001b[0m     \u001b[0mbndbox\u001b[0m \u001b[1;33m=\u001b[0m \u001b[0manno_data\u001b[0m\u001b[1;33m[\u001b[0m\u001b[0mi\u001b[0m\u001b[1;33m]\u001b[0m\u001b[1;33m.\u001b[0m\u001b[0mreplace\u001b[0m\u001b[1;33m(\u001b[0m\u001b[1;34m' '\u001b[0m\u001b[1;33m,\u001b[0m \u001b[1;34m''\u001b[0m\u001b[1;33m)\u001b[0m\u001b[1;33m.\u001b[0m\u001b[0mreplace\u001b[0m\u001b[1;33m(\u001b[0m\u001b[1;34m'\\n'\u001b[0m\u001b[1;33m,\u001b[0m \u001b[1;34m''\u001b[0m\u001b[1;33m)\u001b[0m\u001b[1;33m.\u001b[0m\u001b[0msplit\u001b[0m\u001b[1;33m(\u001b[0m\u001b[1;34m\"\\t\"\u001b[0m\u001b[1;33m)\u001b[0m\u001b[1;33m\u001b[0m\u001b[1;33m\u001b[0m\u001b[0m\n\u001b[0;32m     19\u001b[0m     \u001b[1;32mfor\u001b[0m \u001b[0mj\u001b[0m \u001b[1;32min\u001b[0m \u001b[0mrange\u001b[0m\u001b[1;33m(\u001b[0m\u001b[0mlen\u001b[0m\u001b[1;33m(\u001b[0m\u001b[0mbndbox\u001b[0m\u001b[1;33m)\u001b[0m\u001b[1;33m)\u001b[0m\u001b[1;33m:\u001b[0m\u001b[1;33m\u001b[0m\u001b[1;33m\u001b[0m\u001b[0m\n\u001b[1;32m---> 20\u001b[1;33m         \u001b[0mbndbox\u001b[0m\u001b[1;33m[\u001b[0m\u001b[0mj\u001b[0m\u001b[1;33m]\u001b[0m \u001b[1;33m=\u001b[0m \u001b[0mfloat\u001b[0m\u001b[1;33m(\u001b[0m\u001b[0mbndbox\u001b[0m\u001b[1;33m[\u001b[0m\u001b[0mj\u001b[0m\u001b[1;33m]\u001b[0m\u001b[1;33m)\u001b[0m\u001b[1;33m\u001b[0m\u001b[1;33m\u001b[0m\u001b[0m\n\u001b[0m\u001b[0;32m     21\u001b[0m \u001b[1;33m\u001b[0m\u001b[0m\n\u001b[0;32m     22\u001b[0m     \u001b[1;31m# アノテーションの xmin, ymin, xmax, ymaxを取得し、0～1に規格化\u001b[0m\u001b[1;33m\u001b[0m\u001b[1;33m\u001b[0m\u001b[0m\n",
      "\u001b[1;31mValueError\u001b[0m: could not convert string to float: ''"
     ]
    }
   ],
   "source": [
    "# 「XML形式のアノテーション」を、リスト形式に変換するクラス\n",
    "\n",
    "ind = 1\n",
    "\n",
    "img = cv2.imread(img_list[ind])  # [高さ][幅][色BGR]\n",
    "height, width, channels = img.shape\n",
    "\n",
    "txt_path = anno_list[ind]\n",
    "\n",
    "# 画像内の全ての物体のアノテーションをこのリストに格納します\n",
    "ret = []\n",
    "\n",
    "# txtファイルを読み込む\n",
    "with open(txt_path, mode='rt') as f:\n",
    "    anno_data = f.readlines()\n",
    "\n",
    "for i in range(4, len(anno_data)):\n",
    "    bndbox = anno_data[i].replace(' ', '').replace('\\n', '').split(\"\\t\")\n",
    "    for j in range(len(bndbox)):\n",
    "        bndbox[j] = float(bndbox[j])\n",
    "\n",
    "    # アノテーションの xmin, ymin, xmax, ymaxを取得し、0～1に規格化\n",
    "    bbox_xywh = bndbox[:4]\n",
    "    xmin = bbox_xywh[0]\n",
    "    ymin = bbox_xywh[1]\n",
    "    xmax = xmin + bbox_xywh[2]\n",
    "    ymax = ymin + bbox_xywh[3]\n",
    "\n",
    "    # アノテーションのクラスを追加(Inline:0, Display:1)\n",
    "    bndbox = [xmin/100, ymin/100, xmax/100, ymax/100, int(bndbox[4])]\n",
    "\n",
    "    ret += [bndbox]\n",
    "\n",
    "pprint.pprint(ret)\n"
   ]
  },
  {
   "cell_type": "code",
   "execution_count": 1,
   "metadata": {},
   "outputs": [
    {
     "name": "stdout",
     "output_type": "stream",
     "text": [
      "[[], [], [], [], []]\n"
     ]
    }
   ],
   "source": [
    "a = [[] for i in range(5)]\n",
    "print(a)"
   ]
  }
 ],
 "metadata": {
  "interpreter": {
   "hash": "3579d2fa8d8fb7650db3d4a94e094d65af1a6ee95359fbe8279b5b4ea477d1ee"
  },
  "kernelspec": {
   "display_name": "Python 3.9.9 64-bit",
   "language": "python",
   "name": "python3"
  },
  "language_info": {
   "codemirror_mode": {
    "name": "ipython",
    "version": 3
   },
   "file_extension": ".py",
   "mimetype": "text/x-python",
   "name": "python",
   "nbconvert_exporter": "python",
   "pygments_lexer": "ipython3",
   "version": "3.9.9"
  },
  "orig_nbformat": 4
 },
 "nbformat": 4,
 "nbformat_minor": 2
}
