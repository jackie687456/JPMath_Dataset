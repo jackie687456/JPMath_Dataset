{
 "cells": [
  {
   "cell_type": "markdown",
   "metadata": {},
   "source": [
    "# 2.2 Datasetの実装、 2.3 DataLoaderの実装\n",
    "\n",
    "本ファイルでは、SSDなど物体検出アルゴリズム用のDatasetとDataLoaderを作成します。\n",
    "\n",
    "VOC2012データセットを対象とします。\n"
   ]
  },
  {
   "cell_type": "markdown",
   "metadata": {},
   "source": [
    "# 2.2 学習目標\n",
    "\n",
    "1.\t物体検出で使用するDatasetクラスを作成できるようになる\n",
    "2.\tSSDの学習時のデータオーギュメンテーションで、何をしているのかを理解する\n",
    "\n"
   ]
  },
  {
   "cell_type": "markdown",
   "metadata": {},
   "source": [
    "# 2.3 学習目標\n",
    "\n",
    "1.\t物体検出で使用するDataLoaderクラスを作成できるようになる\n",
    "\n"
   ]
  },
  {
   "cell_type": "markdown",
   "metadata": {},
   "source": [
    "# 事前準備\n",
    "\n",
    "\n",
    "OpenCVのインストール\n",
    "\n",
    "- pip install opencv-python\n",
    "\n",
    "本書の指示に従い、VOC2010のデータセットをダウンロード\n",
    "\n",
    "- http://host.robots.ox.ac.uk/pascal/VOC/voc2012/\n",
    "\n"
   ]
  },
  {
   "cell_type": "code",
   "execution_count": 16,
   "metadata": {},
   "outputs": [],
   "source": [
    "# パッケージのimport\n",
    "import os.path as osp\n",
    "import random\n",
    "# XMLをファイルやテキストから読み込んだり、加工したり、保存したりするためのライブラリ\n",
    "import xml.etree.ElementTree as ET\n",
    "\n",
    "import cv2, glob\n",
    "import matplotlib.pyplot as plt\n",
    "import numpy as np\n",
    "import torch\n",
    "import torch.utils.data as data\n",
    "\n",
    "%matplotlib inline"
   ]
  },
  {
   "cell_type": "code",
   "execution_count": 17,
   "metadata": {},
   "outputs": [],
   "source": [
    "# 乱数のシードを設定\n",
    "torch.manual_seed(1234)\n",
    "np.random.seed(1234)\n",
    "random.seed(1234)"
   ]
  },
  {
   "cell_type": "markdown",
   "metadata": {},
   "source": [
    "# 画像データ、アノテーションデータへのファイルパスのリストを作成する(変更)"
   ]
  },
  {
   "cell_type": "code",
   "execution_count": 18,
   "metadata": {},
   "outputs": [],
   "source": [
    "def make_datapath_list_jpmath(rootpath):\n",
    "    \"\"\"\n",
    "    「バウンディングボックスが存在する」データへのパスを格納したリストを作成する。\n",
    "\n",
    "    Parameters\n",
    "    ----------\n",
    "    rootpath : str\n",
    "        データフォルダへのパス\n",
    "\n",
    "    Returns\n",
    "    -------\n",
    "    ret : train_img_list, train_anno_list, val_img_list, val_anno_list\n",
    "        データへのパスを格納したリスト\n",
    "    \"\"\"\n",
    "\n",
    "    png_path_template = osp.join(rootpath + \"img/\" + \"*.png\")\n",
    "    xml_path_template = osp.join(rootpath + \"xml/\" + \"*.xml\")\n",
    "\n",
    "    img_list = glob.glob(png_path_template)\n",
    "    anno_list = glob.glob(xml_path_template)\n",
    "\n",
    "    valid_index = []\n",
    "\n",
    "    for i in range(len(anno_list)):\n",
    "        xml_path = anno_list[i]\n",
    "        xml = ET.parse(xml_path).getroot()\n",
    "\n",
    "        if xml.find('object') != None:\n",
    "            valid_index.append(i)\n",
    "\n",
    "    valid_img_list = []\n",
    "    valid_anno_list =  []\n",
    "    for j in valid_index:\n",
    "        valid_img_list.append(img_list[j])\n",
    "        valid_anno_list.append(anno_list[j])\n",
    "\n",
    "    return valid_img_list, valid_anno_list\n"
   ]
  },
  {
   "cell_type": "code",
   "execution_count": 19,
   "metadata": {},
   "outputs": [
    {
     "name": "stdout",
     "output_type": "stream",
     "text": [
      "1288\n",
      "1288\n",
      "299\n",
      "299\n",
      "328\n",
      "328\n",
      "./data/JPMathDataset/train/img\\000_000.png\n"
     ]
    }
   ],
   "source": [
    "train_rootpath = \"./data/JPMathDataset/train/\"\n",
    "train_img_list, train_anno_list = make_datapath_list_jpmath(train_rootpath)\n",
    "\n",
    "val_rootpath = \"./data/JPMathDataset/val/\"\n",
    "val_img_list, val_anno_list = make_datapath_list_jpmath(val_rootpath)\n",
    "\n",
    "test_rootpath = \"./data/JPMathDataset/test/\"\n",
    "test_img_list, test_anno_list = make_datapath_list_jpmath(test_rootpath)\n",
    "\n",
    "# 動作確認\n",
    "print(len(train_img_list))\n",
    "print(len(train_anno_list))\n",
    "print(len(val_img_list))\n",
    "print(len(val_anno_list))\n",
    "print(len(test_img_list))\n",
    "print(len(test_anno_list))\n",
    "print(train_img_list[0])\n"
   ]
  },
  {
   "cell_type": "markdown",
   "metadata": {},
   "source": [
    "# xml形式のアノテーションデータをリストに変換する（変更）"
   ]
  },
  {
   "cell_type": "code",
   "execution_count": 6,
   "metadata": {},
   "outputs": [],
   "source": [
    "# 「txt形式のアノテーション」を、リスト形式に変換するクラス\n",
    "\n",
    "\n",
    "class Anno_xml2list(object):\n",
    "    \"\"\"\n",
    "    1枚の画像に対する「XML形式のアノテーションデータ」を、画像サイズで規格化してからリスト形式に変換する。\n",
    "\n",
    "    Attributes\n",
    "    ----------\n",
    "    classes : リスト\n",
    "        VOCのクラス名を格納したリスト\n",
    "    \"\"\"\n",
    "\n",
    "    def __init__(self, classes):\n",
    "\n",
    "        self.classes = classes\n",
    "\n",
    "    def __call__(self, xml_path, width, height):\n",
    "        \"\"\"\n",
    "        1枚の画像に対する「XML形式のアノテーションデータ」を、画像サイズで規格化してからリスト形式に変換する。\n",
    "\n",
    "        Parameters\n",
    "        ----------\n",
    "        xml_path : str\n",
    "            xmlファイルへのパス。\n",
    "        width : int\n",
    "            対象画像の幅。\n",
    "        height : int\n",
    "            対象画像の高さ。\n",
    "\n",
    "        Returns\n",
    "        -------\n",
    "        ret : [[xmin, ymin, xmax, ymax, label_ind], ... ]\n",
    "            物体のアノテーションデータを格納したリスト。画像内に存在する物体数分のだけ要素を持つ。\n",
    "        \"\"\"\n",
    "\n",
    "        # 画像内の全ての物体のアノテーションをこのリストに格納します\n",
    "        ret = []\n",
    "\n",
    "        # xmlファイルを読み込む\n",
    "        xml = ET.parse(xml_path).getroot()\n",
    "\n",
    "        # 画像内にある物体（object）の数だけループする\n",
    "        for obj in xml.iter('object'):\n",
    "\n",
    "            # アノテーションで検知がdifficultに設定されているものは除外\n",
    "            difficult = int(obj.find('difficult').text)\n",
    "            if difficult == 1:\n",
    "                continue\n",
    "\n",
    "            # 1つの物体に対するアノテーションを格納するリスト\n",
    "            bndbox = []\n",
    "\n",
    "            name = obj.find('name').text.lower().strip()  # 物体名\n",
    "            bbox = obj.find('bndbox')  # バウンディングボックスの情報\n",
    "\n",
    "            # アノテーションの xmin, ymin, xmax, ymaxを取得し、0～1に規格化\n",
    "            pts = ['xmin', 'ymin', 'xmax', 'ymax']\n",
    "\n",
    "            for pt in (pts):\n",
    "                cur_pixel = int(bbox.find(pt).text)\n",
    "\n",
    "                # 幅、高さで規格化\n",
    "                if pt == 'xmin' or pt == 'xmax':  # x方向のときは幅で割算\n",
    "                    cur_pixel /= width\n",
    "                else:  # y方向のときは高さで割算\n",
    "                    cur_pixel /= height\n",
    "\n",
    "                bndbox.append(cur_pixel)\n",
    "\n",
    "            # アノテーションのクラス名のindexを取得して追加\n",
    "            label_idx = self.classes.index(name)\n",
    "            bndbox.append(label_idx)\n",
    "\n",
    "            # resに[xmin, ymin, xmax, ymax, label_ind]を足す\n",
    "            ret += [bndbox]\n",
    "\n",
    "        return np.array(ret)  # [[xmin, ymin, xmax, ymax, label_ind], ... ]\n"
   ]
  },
  {
   "cell_type": "code",
   "execution_count": 7,
   "metadata": {},
   "outputs": [
    {
     "name": "stdout",
     "output_type": "stream",
     "text": [
      "0\n",
      "1\n",
      "2\n",
      "3\n",
      "4\n",
      "5\n",
      "6\n",
      "7\n",
      "8\n",
      "9\n"
     ]
    }
   ],
   "source": [
    "# 動作確認　\n",
    "classes = [\"inlinemf\", \"displaymf\"]\n",
    "\n",
    "transform_anno = Anno_xml2list(classes)\n",
    "\n",
    "# 画像の読み込み OpenCVを使用\n",
    "for ind in range(10):\n",
    "    print(ind)\n",
    "    image_file_path = train_img_list[ind]\n",
    "    img = cv2.imread(image_file_path)  # [高さ][幅][色BGR]\n",
    "    height, width, channels = img.shape  # 画像のサイズを取得\n",
    "\n",
    "    # アノテーションをリストで表示\n",
    "    transform_anno(train_anno_list[ind], width, height)\n"
   ]
  },
  {
   "cell_type": "markdown",
   "metadata": {},
   "source": [
    "# 画像とアノテーションの前処理を行うクラスDataTransformを作成する"
   ]
  },
  {
   "cell_type": "code",
   "execution_count": 8,
   "metadata": {},
   "outputs": [],
   "source": [
    "# フォルダ「utils」にあるdata_augumentation.pyからimport。\n",
    "# 入力画像の前処理をするクラス\n",
    "from utils.data_augumentation import Compose, ConvertFromInts, ToAbsoluteCoords, PhotometricDistort, Expand, RandomSampleCrop, RandomMirror, ToPercentCoords, Resize, SubtractMeans\n",
    "\n",
    "\n",
    "class DataTransform():\n",
    "    \"\"\"\n",
    "    画像とアノテーションの前処理クラス。訓練と推論で異なる動作をする。\n",
    "    画像のサイズを300x300にする。\n",
    "    学習時はデータオーギュメンテーションする。\n",
    "\n",
    "\n",
    "    Attributes\n",
    "    ----------\n",
    "    input_size : int\n",
    "        リサイズ先の画像の大きさ。\n",
    "    color_mean : (B, G, R)\n",
    "        各色チャネルの平均値。\n",
    "    \"\"\"\n",
    "\n",
    "    def __init__(self, input_size, color_mean):\n",
    "        self.data_transform = {\n",
    "            'train': Compose([\n",
    "                ConvertFromInts(),  # intをfloat32に変換\n",
    "                ToAbsoluteCoords(),  # アノテーションデータの規格化を戻す\n",
    "                PhotometricDistort(),  # 画像の色調などをランダムに変化\n",
    "                Expand(color_mean),  # 画像のキャンバスを広げる\n",
    "                RandomSampleCrop(),  # 画像内の部分をランダムに抜き出す\n",
    "                RandomMirror(),  # 画像を反転させる\n",
    "                ToPercentCoords(),  # アノテーションデータを0-1に規格化\n",
    "                Resize(input_size),  # 画像サイズをinput_size×input_sizeに変形\n",
    "                SubtractMeans(color_mean)  # BGRの色の平均値を引き算\n",
    "            ]),\n",
    "            'val': Compose([\n",
    "                ConvertFromInts(),  # intをfloatに変換\n",
    "                Resize(input_size),  # 画像サイズをinput_size×input_sizeに変形\n",
    "                SubtractMeans(color_mean)  # BGRの色の平均値を引き算\n",
    "            ])\n",
    "        }\n",
    "\n",
    "    def __call__(self, img, phase, boxes, labels):\n",
    "        \"\"\"\n",
    "        Parameters\n",
    "        ----------\n",
    "        phase : 'train' or 'val'\n",
    "            前処理のモードを指定。\n",
    "        \"\"\"\n",
    "        return self.data_transform[phase](img, boxes, labels)\n"
   ]
  },
  {
   "cell_type": "code",
   "execution_count": 9,
   "metadata": {},
   "outputs": [
    {
     "data": {
      "image/png": "[encoded data removed]",
      "text/plain": [
       "<Figure size 432x288 with 1 Axes>"
      ]
     },
     "metadata": {
      "needs_background": "light"
     },
     "output_type": "display_data"
    },
    {
     "name": "stderr",
     "output_type": "stream",
     "text": [
      "c:\\Users\\kwmrs\\Documents\\studies\\SSD_JPMath\\utils\\data_augumentation.py:246: VisibleDeprecationWarning: Creating an ndarray from ragged nested sequences (which is a list-or-tuple of lists-or-tuples-or ndarrays with different lengths or shapes) is deprecated. If you meant to do this, you must specify 'dtype=object' when creating the ndarray\n",
      "  mode = random.choice(self.sample_options)\n",
      "Clipping input data to the valid range for imshow with RGB data ([0..1] for floats or [0..255] for integers).\n"
     ]
    },
    {
     "data": {
      "image/png": "[encoded data removed]",
      "text/plain": [
       "<Figure size 432x288 with 1 Axes>"
      ]
     },
     "metadata": {
      "needs_background": "light"
     },
     "output_type": "display_data"
    },
    {
     "name": "stderr",
     "output_type": "stream",
     "text": [
      "Clipping input data to the valid range for imshow with RGB data ([0..1] for floats or [0..255] for integers).\n"
     ]
    },
    {
     "data": {
      "image/png": "[encoded data removed]",
      "text/plain": [
       "<Figure size 432x288 with 1 Axes>"
      ]
     },
     "metadata": {
      "needs_background": "light"
     },
     "output_type": "display_data"
    }
   ],
   "source": [
    "# 動作の確認\n",
    "\n",
    "# 1. 画像読み込み\n",
    "image_file_path = train_img_list[6]\n",
    "img = cv2.imread(image_file_path)  # [高さ][幅][色BGR]\n",
    "height, width, channels = img.shape  # 画像のサイズを取得\n",
    "\n",
    "# 2. アノテーションをリストに\n",
    "transform_anno = Anno_xml2list(classes)\n",
    "anno_list = transform_anno(train_anno_list[0], width, height)\n",
    "\n",
    "# 3. 元画像の表示\n",
    "plt.imshow(cv2.cvtColor(img, cv2.COLOR_BGR2RGB))\n",
    "plt.show()\n",
    "\n",
    "# 4. 前処理クラスの作成\n",
    "color_mean = (104, 117, 123)  # (BGR)の色の平均値\n",
    "input_size = 300  # 画像のinputサイズを300×300にする\n",
    "transform = DataTransform(input_size, color_mean)\n",
    "\n",
    "# 5. train画像の表示\n",
    "phase = \"train\"\n",
    "img_transformed, boxes, labels = transform(\n",
    "    img, phase, anno_list[:, :4], anno_list[:, 4])\n",
    "plt.imshow(cv2.cvtColor(img_transformed, cv2.COLOR_BGR2RGB))\n",
    "plt.show()\n",
    "\n",
    "\n",
    "# 6. val画像の表示\n",
    "phase = \"val\"\n",
    "img_transformed, boxes, labels = transform(\n",
    "    img, phase, anno_list[:, :4], anno_list[:, 4])\n",
    "plt.imshow(cv2.cvtColor(img_transformed, cv2.COLOR_BGR2RGB))\n",
    "plt.show()\n"
   ]
  },
  {
   "cell_type": "markdown",
   "metadata": {},
   "source": [
    "# Datasetを作成する（変更：動作確認）"
   ]
  },
  {
   "cell_type": "code",
   "execution_count": 10,
   "metadata": {},
   "outputs": [],
   "source": [
    "# IBEM datasetのDatasetを作成する\n",
    "\n",
    "\n",
    "class VOCDataset(data.Dataset):\n",
    "    \"\"\"\n",
    "    VOC2012のDatasetを作成するクラス。PyTorchのDatasetクラスを継承。\n",
    "\n",
    "    Attributes\n",
    "    ----------\n",
    "    img_list : リスト\n",
    "        画像のパスを格納したリスト\n",
    "    anno_list : リスト\n",
    "        アノテーションへのパスを格納したリスト\n",
    "    phase : 'train' or 'test'\n",
    "        学習か訓練かを設定する。\n",
    "    transform : object\n",
    "        前処理クラスのインスタンス\n",
    "    transform_anno : object\n",
    "        xmlのアノテーションをリストに変換するインスタンス\n",
    "    \"\"\"\n",
    "\n",
    "    def __init__(self, img_list, anno_list, phase, transform, transform_anno):\n",
    "        self.img_list = img_list\n",
    "        self.anno_list = anno_list\n",
    "        self.phase = phase  # train もしくは valを指定\n",
    "        self.transform = transform  # 画像の変形\n",
    "        self.transform_anno = transform_anno  # アノテーションデータをtxtからリストへ\n",
    "\n",
    "    def __len__(self):\n",
    "        '''画像の枚数を返す'''\n",
    "        return len(self.img_list)\n",
    "\n",
    "    def __getitem__(self, index):\n",
    "        '''\n",
    "        前処理をした画像のテンソル形式のデータとアノテーションを取得\n",
    "        '''\n",
    "        im, gt, h, w = self.pull_item(index)\n",
    "        return im, gt\n",
    "\n",
    "    def pull_item(self, index):\n",
    "        '''前処理をした画像のテンソル形式のデータ、アノテーション、画像の高さ、幅を取得する'''\n",
    "\n",
    "        # 1. 画像読み込み\n",
    "        image_file_path = self.img_list[index]\n",
    "        img = cv2.imread(image_file_path)  # [高さ][幅][色BGR]\n",
    "        height, width, channels = img.shape  # 画像のサイズを取得\n",
    "\n",
    "        # 2. xml形式のアノテーション情報をリストに\n",
    "        anno_file_path = self.anno_list[index]\n",
    "        anno_list = self.transform_anno(anno_file_path, width, height)\n",
    "\n",
    "        # 3. 前処理を実施\n",
    "        img, boxes, labels = self.transform(\n",
    "            img, self.phase, anno_list[:, :4], anno_list[:, 4])\n",
    "\n",
    "        # 色チャネルの順番がBGRになっているので、RGBに順番変更\n",
    "        # さらに（高さ、幅、色チャネル）の順を（色チャネル、高さ、幅）に変換\n",
    "        img = torch.from_numpy(img[:, :, (2, 1, 0)]).permute(2, 0, 1)\n",
    "\n",
    "        # BBoxとラベルをセットにしたnp.arrayを作成、変数名「gt」はground truth（答え）の略称\n",
    "        gt = np.hstack((boxes, np.expand_dims(labels, axis=1)))\n",
    "\n",
    "        return img, gt, height, width\n"
   ]
  },
  {
   "cell_type": "code",
   "execution_count": 11,
   "metadata": {},
   "outputs": [
    {
     "data": {
      "text/plain": [
       "(tensor([[[0., 0., 0.,  ..., 0., 0., 0.],\n",
       "          [0., 0., 0.,  ..., 0., 0., 0.],\n",
       "          [0., 0., 0.,  ..., 0., 0., 0.],\n",
       "          ...,\n",
       "          [0., 0., 0.,  ..., 0., 0., 0.],\n",
       "          [0., 0., 0.,  ..., 0., 0., 0.],\n",
       "          [0., 0., 0.,  ..., 0., 0., 0.]],\n",
       " \n",
       "         [[0., 0., 0.,  ..., 0., 0., 0.],\n",
       "          [0., 0., 0.,  ..., 0., 0., 0.],\n",
       "          [0., 0., 0.,  ..., 0., 0., 0.],\n",
       "          ...,\n",
       "          [0., 0., 0.,  ..., 0., 0., 0.],\n",
       "          [0., 0., 0.,  ..., 0., 0., 0.],\n",
       "          [0., 0., 0.,  ..., 0., 0., 0.]],\n",
       " \n",
       "         [[0., 0., 0.,  ..., 0., 0., 0.],\n",
       "          [0., 0., 0.,  ..., 0., 0., 0.],\n",
       "          [0., 0., 0.,  ..., 0., 0., 0.],\n",
       "          ...,\n",
       "          [0., 0., 0.,  ..., 0., 0., 0.],\n",
       "          [0., 0., 0.,  ..., 0., 0., 0.],\n",
       "          [0., 0., 0.,  ..., 0., 0., 0.]]]),\n",
       " array([[0.66435185, 0.6483711 , 0.66763117, 0.65403683, 0.        ],\n",
       "        [0.62287809, 0.64872521, 0.62615741, 0.65439093, 0.        ],\n",
       "        [0.70486111, 0.65864023, 0.70814043, 0.66820113, 0.        ],\n",
       "        [0.6716821 , 0.65828612, 0.67496142, 0.66749292, 0.        ],\n",
       "        [0.60706019, 0.65970255, 0.62345679, 0.66713881, 0.        ],\n",
       "        [0.69791667, 0.67245042, 0.71431327, 0.67988669, 0.        ],\n",
       "        [0.69367284, 0.68696884, 0.69695216, 0.69263456, 0.        ],\n",
       "        [0.68460648, 0.68413598, 0.6878858 , 0.69334278, 0.        ],\n",
       "        [0.60474537, 0.68449008, 0.6087963 , 0.69334278, 0.        ],\n",
       "        [0.6398534 , 0.69652975, 0.67592593, 0.70786119, 0.        ],\n",
       "        [0.65625   , 0.7131728 , 0.66010802, 0.71848442, 0.        ],\n",
       "        [0.61921296, 0.71140227, 0.62249228, 0.72060907, 0.        ],\n",
       "        [0.68518519, 0.72344193, 0.68846451, 0.73264873, 0.        ],\n",
       "        [0.64814815, 0.7223796 , 0.65142747, 0.7315864 , 0.        ],\n",
       "        [0.70408951, 0.74858357, 0.70814043, 0.75743626, 0.        ],\n",
       "        [0.6711034 , 0.86543909, 0.67438272, 0.87464589, 0.        ],\n",
       "        [0.68132716, 0.86791785, 0.68518519, 0.87322946, 0.        ],\n",
       "        [0.61419753, 0.86614731, 0.61747685, 0.87535411, 0.        ],\n",
       "        [0.60397377, 0.86437677, 0.60725309, 0.87358357, 0.        ],\n",
       "        [0.68344907, 0.88066572, 0.6867284 , 0.88597734, 0.        ],\n",
       "        [0.67361111, 0.87818697, 0.67650463, 0.88633144, 0.        ],\n",
       "        [0.62962963, 0.89058074, 0.64660494, 0.90084986, 0.        ],\n",
       "        [0.56635802, 0.38066572, 0.58950617, 0.38987252, 0.        ],\n",
       "        [0.56886574, 0.40686969, 0.58680556, 0.41572238, 0.        ],\n",
       "        [0.57368827, 0.41961756, 0.58661265, 0.42847025, 0.        ],\n",
       "        [0.51060957, 0.41926346, 0.55902778, 0.42917847, 0.        ],\n",
       "        [0.57272377, 0.43271955, 0.58564815, 0.44157224, 0.        ],\n",
       "        [0.50887346, 0.43271955, 0.55806327, 0.44157224, 0.        ],\n",
       "        [0.52218364, 0.44475921, 0.57581019, 0.45467422, 0.        ],\n",
       "        [0.50983796, 0.46388102, 0.57503858, 0.47733711, 1.        ],\n",
       "        [0.53009259, 0.55878187, 0.54436728, 0.56728045, 0.        ],\n",
       "        [0.50945216, 0.55842776, 0.52604167, 0.56763456, 0.        ],\n",
       "        [0.48823302, 0.55842776, 0.50540123, 0.56798867, 0.        ],\n",
       "        [0.57716049, 0.57152975, 0.59587191, 0.58073654, 0.        ],\n",
       "        [0.49826389, 0.51876771, 0.58333333, 0.54851275, 1.        ],\n",
       "        [0.49768519, 0.59065156, 0.58352623, 0.63385269, 1.        ],\n",
       "        [0.49228395, 0.80701133, 0.53915895, 0.81728045, 0.        ],\n",
       "        [0.51890432, 0.82684136, 0.5779321 , 0.83675637, 0.        ],\n",
       "        [0.48611111, 0.86614731, 0.49382716, 0.87570822, 0.        ],\n",
       "        [0.48572531, 0.87606232, 0.58121142, 0.88774788, 0.        ],\n",
       "        [0.48553241, 0.8888102 , 0.58796296, 0.90084986, 0.        ],\n",
       "        [0.58294753, 0.90120397, 0.58796296, 0.91005666, 0.        ],\n",
       "        [0.48553241, 0.90120397, 0.54571759, 0.91005666, 0.        ],\n",
       "        [0.51967593, 0.91041076, 0.58738426, 0.91961756, 0.        ]]))"
      ]
     },
     "execution_count": 11,
     "metadata": {},
     "output_type": "execute_result"
    }
   ],
   "source": [
    "# 動作確認\n",
    "color_mean = (104, 117, 123)  # (BGR)の色の平均値\n",
    "input_size = 300  # 画像のinputサイズを300×300にする\n",
    "\n",
    "train_dataset = VOCDataset(train_img_list, train_anno_list, phase=\"train\", transform=DataTransform(\n",
    "    input_size, color_mean), transform_anno=Anno_xml2list(classes))\n",
    "\n",
    "val_dataset = VOCDataset(val_img_list, val_anno_list, phase=\"val\", transform=DataTransform(\n",
    "    input_size, color_mean), transform_anno=Anno_xml2list(classes))\n",
    "\n",
    "\n",
    "# データの取り出し例\n",
    "train_dataset.__getitem__(6)\n"
   ]
  },
  {
   "cell_type": "markdown",
   "metadata": {},
   "source": [
    "# DataLoaderを作成する"
   ]
  },
  {
   "cell_type": "code",
   "execution_count": 12,
   "metadata": {},
   "outputs": [],
   "source": [
    "def od_collate_fn(batch):\n",
    "    \"\"\"\n",
    "    Datasetから取り出すアノテーションデータのサイズが画像ごとに異なります。\n",
    "    画像内の物体数が2個であれば(2, 5)というサイズですが、3個であれば（3, 5）など変化します。\n",
    "    この変化に対応したDataLoaderを作成するために、\n",
    "    カスタイマイズした、collate_fnを作成します。\n",
    "    collate_fnは、PyTorchでリストからmini-batchを作成する関数です。\n",
    "    ミニバッチ分の画像が並んでいるリスト変数batchに、\n",
    "    ミニバッチ番号を指定する次元を先頭に1つ追加して、リストの形を変形します。\n",
    "    \"\"\"\n",
    "\n",
    "    targets = []\n",
    "    imgs = []\n",
    "    for sample in batch:\n",
    "        imgs.append(sample[0])  # sample[0] は画像imgです\n",
    "        targets.append(torch.FloatTensor(sample[1]))  # sample[1] はアノテーションgtです\n",
    "\n",
    "    # imgsはミニバッチサイズのリストになっています\n",
    "    # リストの要素はtorch.Size([3, 300, 300])です。\n",
    "    # このリストをtorch.Size([batch_num, 3, 300, 300])のテンソルに変換します\n",
    "    imgs = torch.stack(imgs, dim=0)\n",
    "\n",
    "    # targetsはアノテーションデータの正解であるgtのリストです。\n",
    "    # リストのサイズはミニバッチサイズです。\n",
    "    # リストtargetsの要素は [n, 5] となっています。\n",
    "    # nは画像ごとに異なり、画像内にある物体の数となります。\n",
    "    # 5は [xmin, ymin, xmax, ymax, class_index] です\n",
    "\n",
    "    return imgs, targets\n"
   ]
  },
  {
   "cell_type": "code",
   "execution_count": 14,
   "metadata": {},
   "outputs": [
    {
     "name": "stdout",
     "output_type": "stream",
     "text": [
      "torch.Size([32, 3, 300, 300])\n",
      "32\n",
      "torch.Size([18, 5])\n"
     ]
    }
   ],
   "source": [
    "# データローダーの作成\n",
    "\n",
    "batch_size = 32\n",
    "\n",
    "train_dataloader = data.DataLoader(\n",
    "    train_dataset, batch_size=batch_size, shuffle=True, collate_fn=od_collate_fn)\n",
    "\n",
    "val_dataloader = data.DataLoader(\n",
    "    val_dataset, batch_size=batch_size, shuffle=False, collate_fn=od_collate_fn)\n",
    "\n",
    "# 辞書型変数にまとめる\n",
    "dataloaders_dict = {\"train\": train_dataloader, \"val\": val_dataloader}\n",
    "\n",
    "# 動作の確認\n",
    "batch_iterator = iter(dataloaders_dict[\"val\"])  # イタレータに変換\n",
    "images, targets = next(batch_iterator)  # 1番目の要素を取り出す\n",
    "print(images.size())  # torch.Size([4, 3, 300, 300])\n",
    "print(len(targets))\n",
    "print(targets[1].size())  # ミニバッチのサイズのリスト、各要素は[n, 5]、nは物体数\n"
   ]
  },
  {
   "cell_type": "code",
   "execution_count": 15,
   "metadata": {},
   "outputs": [
    {
     "name": "stdout",
     "output_type": "stream",
     "text": [
      "1288\n",
      "299\n"
     ]
    }
   ],
   "source": [
    "print(train_dataset.__len__())\n",
    "print(val_dataset.__len__())\n"
   ]
  },
  {
   "cell_type": "markdown",
   "metadata": {},
   "source": [
    "以上"
   ]
  }
 ],
 "metadata": {
  "kernelspec": {
   "display_name": "Python 3",
   "language": "python",
   "name": "python3"
  },
  "language_info": {
   "codemirror_mode": {
    "name": "ipython",
    "version": 3
   },
   "file_extension": ".py",
   "mimetype": "text/x-python",
   "name": "python",
   "nbconvert_exporter": "python",
   "pygments_lexer": "ipython3",
   "version": "3.9.9"
  }
 },
 "nbformat": 4,
 "nbformat_minor": 4
}
