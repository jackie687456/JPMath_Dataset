{
 "cells": [
  {
   "cell_type": "markdown",
   "metadata": {},
   "source": [
    "# 2.2 Datasetの実装、 2.3 DataLoaderの実装\n",
    "\n",
    "本ファイルでは、SSDなど物体検出アルゴリズム用のDatasetとDataLoaderを作成します。\n",
    "\n",
    "VOC2012データセットを対象とします。\n"
   ]
  },
  {
   "cell_type": "markdown",
   "metadata": {},
   "source": [
    "# 2.2 学習目標\n",
    "\n",
    "1.\t物体検出で使用するDatasetクラスを作成できるようになる\n",
    "2.\tSSDの学習時のデータオーギュメンテーションで、何をしているのかを理解する\n",
    "\n"
   ]
  },
  {
   "cell_type": "markdown",
   "metadata": {},
   "source": [
    "# 2.3 学習目標\n",
    "\n",
    "1.\t物体検出で使用するDataLoaderクラスを作成できるようになる\n",
    "\n"
   ]
  },
  {
   "cell_type": "markdown",
   "metadata": {},
   "source": [
    "# 事前準備\n",
    "\n",
    "\n",
    "OpenCVのインストール\n",
    "\n",
    "- pip install opencv-python\n",
    "\n",
    "本書の指示に従い、VOC2010のデータセットをダウンロード\n",
    "\n",
    "- http://host.robots.ox.ac.uk/pascal/VOC/voc2012/\n",
    "\n"
   ]
  },
  {
   "cell_type": "code",
   "execution_count": 2,
   "metadata": {},
   "outputs": [],
   "source": [
    "# パッケージのimport\n",
    "import os.path as osp\n",
    "import random\n",
    "# XMLをファイルやテキストから読み込んだり、加工したり、保存したりするためのライブラリ\n",
    "import xml.etree.ElementTree as ET\n",
    "\n",
    "import cv2, glob\n",
    "import matplotlib.pyplot as plt\n",
    "import numpy as np\n",
    "import torch\n",
    "import torch.utils.data as data\n",
    "\n",
    "%matplotlib inline"
   ]
  },
  {
   "cell_type": "code",
   "execution_count": 3,
   "metadata": {},
   "outputs": [],
   "source": [
    "# 乱数のシードを設定\n",
    "torch.manual_seed(1234)\n",
    "np.random.seed(1234)\n",
    "random.seed(1234)"
   ]
  },
  {
   "cell_type": "markdown",
   "metadata": {},
   "source": [
    "# 画像データ、アノテーションデータへのファイルパスのリストを作成する(変更)"
   ]
  },
  {
   "cell_type": "code",
   "execution_count": 4,
   "metadata": {},
   "outputs": [],
   "source": [
    "def make_datapath_list_ibem(rootpath):\n",
    "    \"\"\"\n",
    "    「バウンディングボックスが存在する」データへのパスを格納したリストを作成する。\n",
    "\n",
    "    Parameters\n",
    "    ----------\n",
    "    rootpath : str\n",
    "        データフォルダへのパス\n",
    "\n",
    "    Returns\n",
    "    -------\n",
    "    ret : train_img_list, train_anno_list, val_img_list, val_anno_list\n",
    "        データへのパスを格納したリスト\n",
    "    \"\"\"\n",
    "\n",
    "    jpeg_path_template = osp.join(rootpath + \"*.jpg\")\n",
    "    text_path_template = osp.join(rootpath + \"*.txt\")\n",
    "\n",
    "    img_list = glob.glob(jpeg_path_template)\n",
    "    anno_list = glob.glob(text_path_template)\n",
    "\n",
    "    valid_index = []\n",
    "\n",
    "    for i in range(len(anno_list)):\n",
    "        txt_path = anno_list[i]\n",
    "\n",
    "        with open(txt_path, mode='rt') as f:\n",
    "            anno_data = f.readlines()\n",
    "        \n",
    "        if(len(anno_data) > 4):\n",
    "            valid_index.append(i)\n",
    "\n",
    "    valid_img_list = []\n",
    "    valid_anno_list =  []\n",
    "    for j in valid_index:\n",
    "        valid_img_list.append(img_list[j])\n",
    "        valid_anno_list.append(anno_list[j])\n",
    "\n",
    "    return valid_img_list, valid_anno_list\n"
   ]
  },
  {
   "cell_type": "code",
   "execution_count": 5,
   "metadata": {},
   "outputs": [
    {
     "name": "stdout",
     "output_type": "stream",
     "text": [
      "3666\n",
      "3666\n",
      "./data/IBEMdataset/Tr00\\0001015-page01.jpg\n"
     ]
    }
   ],
   "source": [
    "train_rootpath = \"./data/IBEMdataset/Tr00/\"\n",
    "train_img_list, train_anno_list = make_datapath_list_ibem(train_rootpath)\n",
    "val_rootpath = \"./data/IBEMdataset/Va00/\"\n",
    "val_img_list, val_anno_list = make_datapath_list_ibem(val_rootpath)\n",
    "\n",
    "# 動作確認\n",
    "print(len(train_img_list))\n",
    "print(len(train_anno_list))\n",
    "print(train_img_list[0])\n"
   ]
  },
  {
   "cell_type": "markdown",
   "metadata": {},
   "source": [
    "# txt形式のアノテーションデータをリストに変換する（変更）"
   ]
  },
  {
   "cell_type": "code",
   "execution_count": 6,
   "metadata": {},
   "outputs": [],
   "source": [
    "# 「txt形式のアノテーション」を、リスト形式に変換するクラス\n",
    "\n",
    "\n",
    "class Anno_txt2list(object):\n",
    "    \"\"\"\n",
    "    1枚の画像に対する「txt形式のアノテーションデータ」を、画像サイズで規格化してからリスト形式に変換する。\n",
    "\n",
    "    Attributes\n",
    "    ----------\n",
    "    classes : リスト\n",
    "        VOCのクラス名を格納したリスト\n",
    "    \"\"\"\n",
    "\n",
    "    def __init__(self, classes):\n",
    "\n",
    "        self.classes = classes\n",
    "\n",
    "    def __call__(self, txt_path, width, height):\n",
    "        \"\"\"\n",
    "        1枚の画像に対する「XML形式のアノテーションデータ」を、画像サイズで規格化してからリスト形式に変換する。\n",
    "\n",
    "        Parameters\n",
    "        ----------\n",
    "        xml_path : str\n",
    "            xmlファイルへのパス。\n",
    "        width : int\n",
    "            対象画像の幅。\n",
    "        height : int\n",
    "            対象画像の高さ。\n",
    "\n",
    "        Returns\n",
    "        -------\n",
    "        ret : [[xmin, ymin, xmax, ymax, label_ind], ... ]\n",
    "            物体のアノテーションデータを格納したリスト。画像内に存在する物体数分だけ要素を持つ。\n",
    "        \"\"\"\n",
    "\n",
    "        # txtファイルを読み込む\n",
    "        with open(txt_path, mode='rt') as f:\n",
    "            anno_data = f.readlines()\n",
    "        \n",
    "        if(len(anno_data)==4):\n",
    "            ret = [[0, 0, 0, 0, -1]]\n",
    "        \n",
    "        else:\n",
    "            ret = []\n",
    "\n",
    "            for i in range(4, len(anno_data)):\n",
    "                bndbox = anno_data[i].replace(' ', '').replace('\\n', '').split(\"\\t\")\n",
    "                for j in range(len(bndbox)):\n",
    "                    bndbox[j] = float(bndbox[j])\n",
    "\n",
    "                # アノテーションの xmin, ymin, xmax, ymaxを取得し、0～1に規格化\n",
    "                bbox_xywh = bndbox[:4]\n",
    "                xmin = bbox_xywh[0]\n",
    "                ymin = bbox_xywh[1]\n",
    "                xmax = xmin + bbox_xywh[2]\n",
    "                ymax = ymin + bbox_xywh[3]\n",
    "\n",
    "                # アノテーションのクラスを追加(Inline:0, Display:1)\n",
    "                bndbox = [xmin/100, ymin/100, xmax/100, ymax/100, int(bndbox[4])]\n",
    "\n",
    "                ret += [bndbox]\n",
    "            \n",
    "        return np.array(ret)  # [[xmin, ymin, xmax, ymax, label_ind], ... ]\n"
   ]
  },
  {
   "cell_type": "code",
   "execution_count": 7,
   "metadata": {},
   "outputs": [],
   "source": [
    "# 動作確認　\n",
    "classes = [0, 1]\n",
    "\n",
    "transform_anno = Anno_txt2list(classes)\n",
    "\n",
    "# 画像の読み込み OpenCVを使用\n",
    "for ind in range(20):\n",
    "    image_file_path = train_img_list[ind]\n",
    "    img = cv2.imread(image_file_path)  # [高さ][幅][色BGR]\n",
    "    height, width, channels = img.shape  # 画像のサイズを取得\n",
    "\n",
    "    # アノテーションをリストで表示\n",
    "    transform_anno(train_anno_list[ind], width, height)\n"
   ]
  },
  {
   "cell_type": "markdown",
   "metadata": {},
   "source": [
    "# 画像とアノテーションの前処理を行うクラスDataTransformを作成する"
   ]
  },
  {
   "cell_type": "code",
   "execution_count": 8,
   "metadata": {},
   "outputs": [],
   "source": [
    "# フォルダ「utils」にあるdata_augumentation.pyからimport。\n",
    "# 入力画像の前処理をするクラス\n",
    "from utils.data_augumentation import Compose, ConvertFromInts, ToAbsoluteCoords, PhotometricDistort, Expand, RandomSampleCrop, RandomMirror, ToPercentCoords, Resize, SubtractMeans\n",
    "\n",
    "\n",
    "class DataTransform():\n",
    "    \"\"\"\n",
    "    画像とアノテーションの前処理クラス。訓練と推論で異なる動作をする。\n",
    "    画像のサイズを300x300にする。\n",
    "    学習時はデータオーギュメンテーションする。\n",
    "\n",
    "\n",
    "    Attributes\n",
    "    ----------\n",
    "    input_size : int\n",
    "        リサイズ先の画像の大きさ。\n",
    "    color_mean : (B, G, R)\n",
    "        各色チャネルの平均値。\n",
    "    \"\"\"\n",
    "\n",
    "    def __init__(self, input_size, color_mean):\n",
    "        self.data_transform = {\n",
    "            'train': Compose([\n",
    "                ConvertFromInts(),  # intをfloat32に変換\n",
    "                ToAbsoluteCoords(),  # アノテーションデータの規格化を戻す\n",
    "                PhotometricDistort(),  # 画像の色調などをランダムに変化\n",
    "                Expand(color_mean),  # 画像のキャンバスを広げる\n",
    "                RandomSampleCrop(),  # 画像内の部分をランダムに抜き出す\n",
    "                RandomMirror(),  # 画像を反転させる\n",
    "                ToPercentCoords(),  # アノテーションデータを0-1に規格化\n",
    "                Resize(input_size),  # 画像サイズをinput_size×input_sizeに変形\n",
    "                SubtractMeans(color_mean)  # BGRの色の平均値を引き算\n",
    "            ]),\n",
    "            'val': Compose([\n",
    "                ConvertFromInts(),  # intをfloatに変換\n",
    "                Resize(input_size),  # 画像サイズをinput_size×input_sizeに変形\n",
    "                SubtractMeans(color_mean)  # BGRの色の平均値を引き算\n",
    "            ])\n",
    "        }\n",
    "\n",
    "    def __call__(self, img, phase, boxes, labels):\n",
    "        \"\"\"\n",
    "        Parameters\n",
    "        ----------\n",
    "        phase : 'train' or 'val'\n",
    "            前処理のモードを指定。\n",
    "        \"\"\"\n",
    "        return self.data_transform[phase](img, boxes, labels)\n"
   ]
  },
  {
   "cell_type": "code",
   "execution_count": 9,
   "metadata": {},
   "outputs": [
    {
     "data": {
      "image/png": "[encoded data removed]",
      "text/plain": [
       "<Figure size 432x288 with 1 Axes>"
      ]
     },
     "metadata": {
      "needs_background": "light"
     },
     "output_type": "display_data"
    },
    {
     "name": "stderr",
     "output_type": "stream",
     "text": [
      "c:\\Users\\kwmrs\\Documents\\studies\\SSD_IBEM_300\\utils\\data_augumentation.py:246: VisibleDeprecationWarning: Creating an ndarray from ragged nested sequences (which is a list-or-tuple of lists-or-tuples-or ndarrays with different lengths or shapes) is deprecated. If you meant to do this, you must specify 'dtype=object' when creating the ndarray\n",
      "  mode = random.choice(self.sample_options)\n",
      "Clipping input data to the valid range for imshow with RGB data ([0..1] for floats or [0..255] for integers).\n"
     ]
    },
    {
     "data": {
      "image/png": "[encoded data removed]",
      "text/plain": [
       "<Figure size 432x288 with 1 Axes>"
      ]
     },
     "metadata": {
      "needs_background": "light"
     },
     "output_type": "display_data"
    },
    {
     "name": "stderr",
     "output_type": "stream",
     "text": [
      "Clipping input data to the valid range for imshow with RGB data ([0..1] for floats or [0..255] for integers).\n"
     ]
    },
    {
     "data": {
      "image/png": "[encoded data removed]",
      "text/plain": [
       "<Figure size 432x288 with 1 Axes>"
      ]
     },
     "metadata": {
      "needs_background": "light"
     },
     "output_type": "display_data"
    }
   ],
   "source": [
    "# 動作の確認\n",
    "\n",
    "# 1. 画像読み込み\n",
    "image_file_path = train_img_list[6]\n",
    "img = cv2.imread(image_file_path)  # [高さ][幅][色BGR]\n",
    "height, width, channels = img.shape  # 画像のサイズを取得\n",
    "\n",
    "# 2. アノテーションをリストに\n",
    "transform_anno = Anno_txt2list(classes)\n",
    "anno_list = transform_anno(train_anno_list[0], width, height)\n",
    "\n",
    "# 3. 元画像の表示\n",
    "plt.imshow(cv2.cvtColor(img, cv2.COLOR_BGR2RGB))\n",
    "plt.show()\n",
    "\n",
    "# 4. 前処理クラスの作成\n",
    "color_mean = (104, 117, 123)  # (BGR)の色の平均値\n",
    "input_size = 300  # 画像のinputサイズを300×300にする\n",
    "transform = DataTransform(input_size, color_mean)\n",
    "\n",
    "# 5. train画像の表示\n",
    "phase = \"train\"\n",
    "img_transformed, boxes, labels = transform(\n",
    "    img, phase, anno_list[:, :4], anno_list[:, 4])\n",
    "plt.imshow(cv2.cvtColor(img_transformed, cv2.COLOR_BGR2RGB))\n",
    "plt.show()\n",
    "\n",
    "\n",
    "# 6. val画像の表示\n",
    "phase = \"val\"\n",
    "img_transformed, boxes, labels = transform(\n",
    "    img, phase, anno_list[:, :4], anno_list[:, 4])\n",
    "plt.imshow(cv2.cvtColor(img_transformed, cv2.COLOR_BGR2RGB))\n",
    "plt.show()\n"
   ]
  },
  {
   "cell_type": "markdown",
   "metadata": {},
   "source": [
    "# Datasetを作成する（変更：動作確認）"
   ]
  },
  {
   "cell_type": "code",
   "execution_count": 10,
   "metadata": {},
   "outputs": [],
   "source": [
    "# IBEM datasetのDatasetを作成する\n",
    "\n",
    "\n",
    "class VOCDataset(data.Dataset):\n",
    "    \"\"\"\n",
    "    VOC2012のDatasetを作成するクラス。PyTorchのDatasetクラスを継承。\n",
    "\n",
    "    Attributes\n",
    "    ----------\n",
    "    img_list : リスト\n",
    "        画像のパスを格納したリスト\n",
    "    anno_list : リスト\n",
    "        アノテーションへのパスを格納したリスト\n",
    "    phase : 'train' or 'test'\n",
    "        学習か訓練かを設定する。\n",
    "    transform : object\n",
    "        前処理クラスのインスタンス\n",
    "    transform_anno : object\n",
    "        xmlのアノテーションをリストに変換するインスタンス\n",
    "    \"\"\"\n",
    "\n",
    "    def __init__(self, img_list, anno_list, phase, transform, transform_anno):\n",
    "        self.img_list = img_list\n",
    "        self.anno_list = anno_list\n",
    "        self.phase = phase  # train もしくは valを指定\n",
    "        self.transform = transform  # 画像の変形\n",
    "        self.transform_anno = transform_anno  # アノテーションデータをtxtからリストへ\n",
    "\n",
    "    def __len__(self):\n",
    "        '''画像の枚数を返す'''\n",
    "        return len(self.img_list)\n",
    "\n",
    "    def __getitem__(self, index):\n",
    "        '''\n",
    "        前処理をした画像のテンソル形式のデータとアノテーションを取得\n",
    "        '''\n",
    "        im, gt, h, w = self.pull_item(index)\n",
    "        return im, gt\n",
    "\n",
    "    def pull_item(self, index):\n",
    "        '''前処理をした画像のテンソル形式のデータ、アノテーション、画像の高さ、幅を取得する'''\n",
    "\n",
    "        # 1. 画像読み込み\n",
    "        image_file_path = self.img_list[index]\n",
    "        img = cv2.imread(image_file_path)  # [高さ][幅][色BGR]\n",
    "        height, width, channels = img.shape  # 画像のサイズを取得\n",
    "\n",
    "        # 2. xml形式のアノテーション情報をリストに\n",
    "        anno_file_path = self.anno_list[index]\n",
    "        anno_list = self.transform_anno(anno_file_path, width, height)\n",
    "\n",
    "        # 3. 前処理を実施\n",
    "        img, boxes, labels = self.transform(\n",
    "            img, self.phase, anno_list[:, :4], anno_list[:, 4])\n",
    "\n",
    "        # 色チャネルの順番がBGRになっているので、RGBに順番変更\n",
    "        # さらに（高さ、幅、色チャネル）の順を（色チャネル、高さ、幅）に変換\n",
    "        img = torch.from_numpy(img[:, :, (2, 1, 0)]).permute(2, 0, 1)\n",
    "\n",
    "        # BBoxとラベルをセットにしたnp.arrayを作成、変数名「gt」はground truth（答え）の略称\n",
    "        gt = np.hstack((boxes, np.expand_dims(labels, axis=1)))\n",
    "\n",
    "        return img, gt, height, width\n"
   ]
  },
  {
   "cell_type": "code",
   "execution_count": 11,
   "metadata": {},
   "outputs": [
    {
     "data": {
      "text/plain": [
       "(tensor([[[0., 0., 0.,  ..., 0., 0., 0.],\n",
       "          [0., 0., 0.,  ..., 0., 0., 0.],\n",
       "          [0., 0., 0.,  ..., 0., 0., 0.],\n",
       "          ...,\n",
       "          [0., 0., 0.,  ..., 0., 0., 0.],\n",
       "          [0., 0., 0.,  ..., 0., 0., 0.],\n",
       "          [0., 0., 0.,  ..., 0., 0., 0.]],\n",
       " \n",
       "         [[0., 0., 0.,  ..., 0., 0., 0.],\n",
       "          [0., 0., 0.,  ..., 0., 0., 0.],\n",
       "          [0., 0., 0.,  ..., 0., 0., 0.],\n",
       "          ...,\n",
       "          [0., 0., 0.,  ..., 0., 0., 0.],\n",
       "          [0., 0., 0.,  ..., 0., 0., 0.],\n",
       "          [0., 0., 0.,  ..., 0., 0., 0.]],\n",
       " \n",
       "         [[0., 0., 0.,  ..., 0., 0., 0.],\n",
       "          [0., 0., 0.,  ..., 0., 0., 0.],\n",
       "          [0., 0., 0.,  ..., 0., 0., 0.],\n",
       "          ...,\n",
       "          [0., 0., 0.,  ..., 0., 0., 0.],\n",
       "          [0., 0., 0.,  ..., 0., 0., 0.],\n",
       "          [0., 0., 0.,  ..., 0., 0., 0.]]]),\n",
       " array([[0.6433974 , 0.71417891, 0.65468566, 0.72465205, 0.        ],\n",
       "        [0.62696302, 0.73067769, 0.62984042, 0.73806627, 0.        ]]))"
      ]
     },
     "execution_count": 11,
     "metadata": {},
     "output_type": "execute_result"
    }
   ],
   "source": [
    "# 動作確認\n",
    "color_mean = (104, 117, 123)  # (BGR)の色の平均値\n",
    "input_size = 300  # 画像のinputサイズを300×300にする\n",
    "\n",
    "train_dataset = VOCDataset(train_img_list, train_anno_list, phase=\"train\", transform=DataTransform(\n",
    "    input_size, color_mean), transform_anno=Anno_txt2list(classes))\n",
    "\n",
    "val_dataset = VOCDataset(val_img_list, val_anno_list, phase=\"val\", transform=DataTransform(\n",
    "    input_size, color_mean), transform_anno=Anno_txt2list(classes))\n",
    "\n",
    "\n",
    "# データの取り出し例\n",
    "train_dataset.__getitem__(6)\n"
   ]
  },
  {
   "cell_type": "markdown",
   "metadata": {},
   "source": [
    "# DataLoaderを作成する"
   ]
  },
  {
   "cell_type": "code",
   "execution_count": 12,
   "metadata": {},
   "outputs": [],
   "source": [
    "def od_collate_fn(batch):\n",
    "    \"\"\"\n",
    "    Datasetから取り出すアノテーションデータのサイズが画像ごとに異なります。\n",
    "    画像内の物体数が2個であれば(2, 5)というサイズですが、3個であれば（3, 5）など変化します。\n",
    "    この変化に対応したDataLoaderを作成するために、\n",
    "    カスタイマイズした、collate_fnを作成します。\n",
    "    collate_fnは、PyTorchでリストからmini-batchを作成する関数です。\n",
    "    ミニバッチ分の画像が並んでいるリスト変数batchに、\n",
    "    ミニバッチ番号を指定する次元を先頭に1つ追加して、リストの形を変形します。\n",
    "    \"\"\"\n",
    "\n",
    "    targets = []\n",
    "    imgs = []\n",
    "    for sample in batch:\n",
    "        imgs.append(sample[0])  # sample[0] は画像imgです\n",
    "        targets.append(torch.FloatTensor(sample[1]))  # sample[1] はアノテーションgtです\n",
    "\n",
    "    # imgsはミニバッチサイズのリストになっています\n",
    "    # リストの要素はtorch.Size([3, 300, 300])です。\n",
    "    # このリストをtorch.Size([batch_num, 3, 300, 300])のテンソルに変換します\n",
    "    imgs = torch.stack(imgs, dim=0)\n",
    "\n",
    "    # targetsはアノテーションデータの正解であるgtのリストです。\n",
    "    # リストのサイズはミニバッチサイズです。\n",
    "    # リストtargetsの要素は [n, 5] となっています。\n",
    "    # nは画像ごとに異なり、画像内にある物体の数となります。\n",
    "    # 5は [xmin, ymin, xmax, ymax, class_index] です\n",
    "\n",
    "    return imgs, targets\n"
   ]
  },
  {
   "cell_type": "code",
   "execution_count": 13,
   "metadata": {},
   "outputs": [
    {
     "name": "stdout",
     "output_type": "stream",
     "text": [
      "torch.Size([4, 3, 300, 300])\n",
      "4\n",
      "torch.Size([14, 5])\n"
     ]
    }
   ],
   "source": [
    "# データローダーの作成\n",
    "\n",
    "batch_size = 4\n",
    "\n",
    "train_dataloader = data.DataLoader(\n",
    "    train_dataset, batch_size=batch_size, shuffle=True, collate_fn=od_collate_fn)\n",
    "\n",
    "val_dataloader = data.DataLoader(\n",
    "    val_dataset, batch_size=batch_size, shuffle=False, collate_fn=od_collate_fn)\n",
    "\n",
    "# 辞書型変数にまとめる\n",
    "dataloaders_dict = {\"train\": train_dataloader, \"val\": val_dataloader}\n",
    "\n",
    "# 動作の確認\n",
    "batch_iterator = iter(dataloaders_dict[\"val\"])  # イタレータに変換\n",
    "images, targets = next(batch_iterator)  # 1番目の要素を取り出す\n",
    "print(images.size())  # torch.Size([4, 3, 300, 300])\n",
    "print(len(targets))\n",
    "print(targets[1].size())  # ミニバッチのサイズのリスト、各要素は[n, 5]、nは物体数\n"
   ]
  },
  {
   "cell_type": "code",
   "execution_count": 14,
   "metadata": {},
   "outputs": [
    {
     "name": "stdout",
     "output_type": "stream",
     "text": [
      "3666\n",
      "515\n"
     ]
    }
   ],
   "source": [
    "print(train_dataset.__len__())\n",
    "print(val_dataset.__len__())\n"
   ]
  },
  {
   "cell_type": "markdown",
   "metadata": {},
   "source": [
    "以上"
   ]
  }
 ],
 "metadata": {
  "kernelspec": {
   "display_name": "Python 3",
   "language": "python",
   "name": "python3"
  },
  "language_info": {
   "codemirror_mode": {
    "name": "ipython",
    "version": 3
   },
   "file_extension": ".py",
   "mimetype": "text/x-python",
   "name": "python",
   "nbconvert_exporter": "python",
   "pygments_lexer": "ipython3",
   "version": "3.9.9"
  }
 },
 "nbformat": 4,
 "nbformat_minor": 4
}
