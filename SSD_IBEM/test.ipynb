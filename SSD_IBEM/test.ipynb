{
 "cells": [
  {
   "cell_type": "code",
   "execution_count": 4,
   "metadata": {},
   "outputs": [],
   "source": [
    "# パッケージのimport\n",
    "import torch.nn as nn\n",
    "import torch.nn.init as init\n",
    "import torch.nn.functional as F\n",
    "from torch.autograd import Function\n",
    "import torch.utils.data as data\n",
    "import torch\n",
    "import cv2\n",
    "import numpy as np\n",
    "import os.path as osp\n",
    "import glob, pprint\n",
    "from itertools import product as product\n",
    "from math import sqrt as sqrt\n",
    "\n",
    "# XMLをファイルやテキストから読み込んだり、加工したり、保存したりするためのライブラリ\n",
    "import xml.etree.ElementTree as ET\n",
    "\n",
    "# フォルダ「utils」のdata_augumentation.pyからimport。入力画像の前処理をするクラス\n",
    "from utils.data_augumentation import Compose, ConvertFromInts, ToAbsoluteCoords, PhotometricDistort, Expand, RandomSampleCrop, RandomMirror, ToPercentCoords, Resize, SubtractMeans\n",
    "\n",
    "# フォルダ「utils」にある関数matchを記述したmatch.pyからimport\n",
    "from utils.match import match"
   ]
  },
  {
   "cell_type": "code",
   "execution_count": 2,
   "metadata": {},
   "outputs": [
    {
     "name": "stdout",
     "output_type": "stream",
     "text": [
      "4082\n",
      "4082\n"
     ]
    }
   ],
   "source": [
    "root_path = \"./data/IBEMdataset/Tr00/\"\n",
    "\n",
    "jpeg_path_template = osp.join(root_path + \"*.jpg\")\n",
    "text_path_template = osp.join(root_path + \"*.txt\")\n",
    "\n",
    "img_list = glob.glob(jpeg_path_template)\n",
    "anno_list = glob.glob(text_path_template)\n",
    "\n",
    "print(len(img_list))\n",
    "print(len(anno_list))"
   ]
  },
  {
   "cell_type": "code",
   "execution_count": 19,
   "metadata": {},
   "outputs": [
    {
     "name": "stdout",
     "output_type": "stream",
     "text": [
      "[[0.2218, 0.5376, 0.3676, 0.5698, 1],\n",
      " [0.2218, 0.6221, 0.6972999999999999, 0.6607000000000001, 1],\n",
      " [0.22940000000000002, 0.1577, 0.2695, 0.1723, 0],\n",
      " [0.48450000000000004, 0.1582, 0.49690000000000006, 0.17190000000000003, 0],\n",
      " [0.6918000000000001, 0.5815, 0.7782000000000001, 0.5966, 0],\n",
      " [0.2979, 0.5986, 0.3387, 0.6137, 0],\n",
      " [0.6372, 0.6724, 0.6711, 0.6869999999999998, 0],\n",
      " [0.2274, 0.6729, 0.2502, 0.6866000000000001, 0],\n",
      " [0.5798, 0.6768000000000001, 0.5909, 0.6836000000000001, 0],\n",
      " [0.44780000000000003, 0.6904, 0.4644, 0.7007000000000001, 0],\n",
      " [0.557, 0.7406999999999999, 0.6897, 0.7558, 0],\n",
      " [0.7554000000000001, 0.7417, 0.7692, 0.7524, 0],\n",
      " [0.6068, 0.7583, 0.6406999999999999, 0.7728999999999999, 0]]\n"
     ]
    },
    {
     "data": {
      "text/plain": [
       "\"\\n        # 画像内にある物体（object）の数だけループする\\n        for obj in xml.iter('object'):\\n\\n            # アノテーションで検知がdifficultに設定されているものは除外\\n            difficult = int(obj.find('difficult').text)\\n            if difficult == 1:\\n                continue\\n\\n            # 1つの物体に対するアノテーションを格納するリスト\\n            bndbox = []\\n\\n            name = obj.find('name').text.lower().strip()  # 物体名\\n            bbox = obj.find('bndbox')  # バウンディングボックスの情報\\n\\n            \\n            pts = ['xmin', 'ymin', 'xmax', 'ymax']\\n\\n            for pt in (pts):\\n                # VOCは原点が(1,1)なので1を引き算して（0, 0）に\\n                cur_pixel = int(bbox.find(pt).text) - 1\\n\\n                # 幅、高さで規格化\\n                if pt == 'xmin' or pt == 'xmax':  # x方向のときは幅で割算\\n                    cur_pixel /= width\\n                else:  # y方向のときは高さで割算\\n                    cur_pixel /= height\\n\\n                bndbox.append(cur_pixel)\\n\\n            \\n            label_idx = self.classes.index(name)\\n            bndbox.append(label_idx)\\n\\n            # resに[xmin, ymin, xmax, ymax, label_ind]を足す\\n            ret += [bndbox]\\n\\n        return np.array(ret)  # [[xmin, ymin, xmax, ymax, label_ind], ... ]\\n\""
      ]
     },
     "execution_count": 19,
     "metadata": {},
     "output_type": "execute_result"
    }
   ],
   "source": [
    "# 「XML形式のアノテーション」を、リスト形式に変換するクラス\n",
    "\n",
    "ind = 1\n",
    "\n",
    "img = cv2.imread(img_list[ind])  # [高さ][幅][色BGR]\n",
    "height, width, channels = img.shape\n",
    "\n",
    "txt_path = anno_list[ind]\n",
    "\n",
    "# 画像内の全ての物体のアノテーションをこのリストに格納します\n",
    "ret = []\n",
    "\n",
    "# txtファイルを読み込む\n",
    "with open(txt_path, mode='rt') as f:\n",
    "    anno_data = f.readlines()\n",
    "\n",
    "for i in range(4, len(anno_data)):\n",
    "    bndbox = anno_data[i].replace(' ', '').replace('\\n', '').split(\"\\t\")\n",
    "    for j in range(len(bndbox)):\n",
    "        bndbox[j] = float(bndbox[j])\n",
    "\n",
    "    # アノテーションの xmin, ymin, xmax, ymaxを取得し、0～1に規格化\n",
    "    bbox_xywh = bndbox[:4]\n",
    "    xmin = bbox_xywh[0]\n",
    "    ymin = bbox_xywh[1]\n",
    "    xmax = xmin + bbox_xywh[2]\n",
    "    ymax = ymin + bbox_xywh[3]\n",
    "\n",
    "    # アノテーションのクラスを追加(Inline:0, Display:1)\n",
    "    bndbox = [xmin/100, ymin/100, xmax/100, ymax/100, int(bndbox[4])]\n",
    "\n",
    "    ret += [bndbox]\n",
    "\n",
    "pprint.pprint(ret)\n"
   ]
  },
  {
   "cell_type": "code",
   "execution_count": 1,
   "metadata": {},
   "outputs": [
    {
     "name": "stdout",
     "output_type": "stream",
     "text": [
      "[[], [], [], [], []]\n"
     ]
    }
   ],
   "source": [
    "a = [[] for i in range(5)]\n",
    "print(a)"
   ]
  }
 ],
 "metadata": {
  "interpreter": {
   "hash": "3579d2fa8d8fb7650db3d4a94e094d65af1a6ee95359fbe8279b5b4ea477d1ee"
  },
  "kernelspec": {
   "display_name": "Python 3.9.9 64-bit",
   "language": "python",
   "name": "python3"
  },
  "language_info": {
   "codemirror_mode": {
    "name": "ipython",
    "version": 3
   },
   "file_extension": ".py",
   "mimetype": "text/x-python",
   "name": "python",
   "nbconvert_exporter": "python",
   "pygments_lexer": "ipython3",
   "version": "3.9.9"
  },
  "orig_nbformat": 4
 },
 "nbformat": 4,
 "nbformat_minor": 2
}
